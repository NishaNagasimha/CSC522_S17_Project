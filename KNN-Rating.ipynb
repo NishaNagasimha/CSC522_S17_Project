{
 "cells": [
  {
   "cell_type": "code",
   "execution_count": 60,
   "metadata": {
    "collapsed": true
   },
   "outputs": [],
   "source": [
    "import os \n",
    "path = \"/home/ruthvik1994/Grive/01.ALDA/Project-Alda/data\"\n",
    "import math\n",
    "import numpy as np"
   ]
  },
  {
   "cell_type": "code",
   "execution_count": 61,
   "metadata": {
    "collapsed": false
   },
   "outputs": [
    {
     "name": "stdout",
     "output_type": "stream",
     "text": [
      "[(512, 318, 1.0864978270065191)]\n"
     ]
    }
   ],
   "source": [
    "ratings = sc.textFile(os.path.join(path, 'ratings.csv')) \\\n",
    "    .map(lambda line: line.split(\",\")) \\\n",
    "    .filter(lambda line: len(line)>1) \\\n",
    "    .map(lambda a: (a[0], a[1], a[2]))\n",
    "\n",
    "header = ratings.first()\n",
    "ratings = ratings.filter(lambda line: line != header)\n",
    "ratings = ratings.map(lambda x:(int(x[0]), int(x[1]), float(x[2])))\n",
    "ratings2 = ratings.map(lambda x: ((x[0], x[1]), x[2]))\n",
    "user_ratings = ratings.map(lambda x:(x[0], x[2])).groupByKey()\n",
    "user_ratings_mean_std = user_ratings.map(lambda x:(x[0], (np.mean(list(x[1])), np.std(list(x[1])))))\n",
    "normalized_ratings = ratings.map(lambda x:(x[0], (x[1], x[2])))\\\n",
    "                                .join(user_ratings_mean_std)\\\n",
    "                                .map(lambda x:(x[0], x[1][0][0], (x[1][0][1]-x[1][1][0])/x[1][1][1]))\n",
    "print normalized_ratings.take(1)"
   ]
  },
  {
   "cell_type": "code",
   "execution_count": 62,
   "metadata": {
    "collapsed": false
   },
   "outputs": [],
   "source": [
    "movies = sc.textFile(os.path.join(path, 'movies.csv'))\\\n",
    "        .map(lambda line:line.split(\",\"))\\\n",
    "        .filter(lambda line:len(line)>1)\\\n",
    "        .map(lambda a:(a[0],a[1]))\n",
    "header2 = movies.first()\n",
    "movies = movies.filter(lambda line: line != header2)"
   ]
  },
  {
   "cell_type": "code",
   "execution_count": 63,
   "metadata": {
    "collapsed": false
   },
   "outputs": [],
   "source": [
    "movie_user = normalized_ratings.map(lambda x:(x[1], x[0])).groupByKey()\n",
    "user_movie = normalized_ratings.map(lambda x:(x[0], x[1])).groupByKey()\n",
    "user_movie_rating = normalized_ratings.map(lambda x:((x[0], x[1]), x[2]))"
   ]
  },
  {
   "cell_type": "code",
   "execution_count": 64,
   "metadata": {
    "collapsed": false
   },
   "outputs": [],
   "source": [
    "def get_rating(user_index, movie_index, k):\n",
    "    \n",
    "    watched_users = movie_user.lookup(movie_index)\n",
    "    watched_users = list(watched_users[0])\n",
    "    if len(watched_users) == 0:\n",
    "        print (\"No one watched this movie yet\\n\")\n",
    "    #print len(watched_users)\n",
    "    user_watched = list(user_movie.lookup(user_index)[0])\n",
    "    if movie_index in user_watched:\n",
    "        return ratings2.lookup((user_index, movie_index))[0]\n",
    "    sim_measures = []\n",
    "    for cur_user in watched_users:\n",
    "        dist = 0.0\n",
    "        cur_user_watched = list(user_movie.lookup(cur_user)[0])\n",
    "        common_watched = [val for val in user_watched if val in cur_user_watched]\n",
    "        if len(common_watched) == 0:\n",
    "            continue\n",
    "        n = len(common_watched)\n",
    "        for movie in common_watched:\n",
    "            u_rate = user_movie_rating.lookup((user_index, movie))[0]\n",
    "            cur_u_rate = user_movie_rating.lookup((cur_user, movie))[0]\n",
    "            dist+=((u_rate-cur_u_rate)**2)\n",
    "        temp = (dist/n, (cur_user, user_movie_rating.lookup((cur_user, movie_index))[0]))\n",
    "        sim_measures.append(temp)\n",
    "    sim_measures_rdd = sc.parallelize(sim_measures)\n",
    "    nearestk = sim_measures_rdd.takeOrdered(k)\n",
    "    avg_rating = 0\n",
    "    for i in nearestk:\n",
    "        avg_rating += i[0]\n",
    "    avg_rating /= k\n",
    "    user_mean_std = user_ratings_mean_std.lookup(user_index)[0]\n",
    "    #print user_mean_std\n",
    "    return (avg_rating*user_mean_std[1])+user_mean_std[0]\n",
    "            \n",
    "        \n",
    "        \n",
    "    "
   ]
  },
  {
   "cell_type": "code",
   "execution_count": 66,
   "metadata": {
    "collapsed": false
   },
   "outputs": [
    {
     "name": "stdout",
     "output_type": "stream",
     "text": [
      "[31, 1029, 1061, 1129, 1172, 1263, 1287, 1293, 1339, 1343, 1371, 1405, 1953, 2105, 2150, 2193, 2294, 2455, 2968, 3671]\n",
      "3.0\n"
     ]
    }
   ],
   "source": [
    "print get_rating(1, 1029, 3)"
   ]
  },
  {
   "cell_type": "code",
   "execution_count": null,
   "metadata": {
    "collapsed": true
   },
   "outputs": [],
   "source": [
    "def "
   ]
  }
 ],
 "metadata": {
  "kernelspec": {
   "display_name": "Python 2",
   "language": "python",
   "name": "python2"
  },
  "language_info": {
   "codemirror_mode": {
    "name": "ipython",
    "version": 2
   },
   "file_extension": ".py",
   "mimetype": "text/x-python",
   "name": "python",
   "nbconvert_exporter": "python",
   "pygments_lexer": "ipython2",
   "version": "2.7.12"
  }
 },
 "nbformat": 4,
 "nbformat_minor": 2
}
