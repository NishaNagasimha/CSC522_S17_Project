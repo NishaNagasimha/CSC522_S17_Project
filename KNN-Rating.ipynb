{
 "cells": [
  {
   "cell_type": "code",
   "execution_count": 1,
   "metadata": {
    "collapsed": true
   },
   "outputs": [],
   "source": [
    "import os \n",
    "path = \"/home/ruthvik1994/Grive/01.ALDA/Project-Alda/data\"\n",
    "from pyspark.mllib.recommendation import ALS\n",
    "import math"
   ]
  },
  {
   "cell_type": "code",
   "execution_count": 3,
   "metadata": {
    "collapsed": false
   },
   "outputs": [
    {
     "name": "stdout",
     "output_type": "stream",
     "text": [
      "Total number of ratings : 100004\n"
     ]
    }
   ],
   "source": [
    "ratings = sc.textFile(os.path.join(path, 'ratings.csv')) \\\n",
    "    .map(lambda line: line.split(\",\")) \\\n",
    "    .filter(lambda line: len(line)>1) \\\n",
    "    .map(lambda a: (a[0], a[1], a[2]))\n",
    "\n",
    "header = ratings.first()\n",
    "ratings = ratings.filter(lambda line: line != header)\n",
    "ratings = ratings.map(lambda x:(int(x[0]), x[1], x[2]))\n",
    "print (\"Total number of ratings : %d\"%ratings.count())"
   ]
  },
  {
   "cell_type": "code",
   "execution_count": 5,
   "metadata": {
    "collapsed": false
   },
   "outputs": [
    {
     "name": "stdout",
     "output_type": "stream",
     "text": [
      "Total number of Movies : 9125\n"
     ]
    }
   ],
   "source": [
    "movies = sc.textFile(os.path.join(path, 'movies.csv'))\\\n",
    "        .map(lambda line:line.split(\",\"))\\\n",
    "        .filter(lambda line:len(line)>1)\\\n",
    "        .map(lambda a:(a[0],a[1]))\n",
    "header2 = movies.first()\n",
    "movies = movies.filter(lambda line: line != header2)\n",
    "print (\"Total number of Movies : %d\"%movies.count())"
   ]
  },
  {
   "cell_type": "code",
   "execution_count": null,
   "metadata": {
    "collapsed": true
   },
   "outputs": [],
   "source": []
  }
 ],
 "metadata": {
  "kernelspec": {
   "display_name": "Python 2",
   "language": "python",
   "name": "python2"
  },
  "language_info": {
   "codemirror_mode": {
    "name": "ipython",
    "version": 2
   },
   "file_extension": ".py",
   "mimetype": "text/x-python",
   "name": "python",
   "nbconvert_exporter": "python",
   "pygments_lexer": "ipython2",
   "version": "2.7.12"
  }
 },
 "nbformat": 4,
 "nbformat_minor": 2
}
