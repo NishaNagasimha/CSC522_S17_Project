{
 "cells": [
  {
   "cell_type": "code",
   "execution_count": 2,
   "metadata": {
    "collapsed": true
   },
   "outputs": [],
   "source": [
    "import os \n",
    "path = \"/home/ruthvik1994/Grive/01.ALDA/Project-Alda/data\"\n",
    "from pyspark.mllib.recommendation import ALS\n",
    "import math"
   ]
  },
  {
   "cell_type": "code",
   "execution_count": 11,
   "metadata": {
    "collapsed": false
   },
   "outputs": [
    {
     "name": "stdout",
     "output_type": "stream",
     "text": [
      "671\n"
     ]
    }
   ],
   "source": [
    "ratings = sc.textFile(os.path.join(path, 'ratings.csv')) \\\n",
    "    .map(lambda line: line.split(\",\")) \\\n",
    "    .filter(lambda line: len(line)>1) \\\n",
    "    .map(lambda a: (a[0], a[1], a[2]))\n",
    "\n",
    "header = ratings.first()\n",
    "ratings = ratings.filter(lambda line: line != header)\n",
    "ratings = ratings.map(lambda x:(int(x[0]), int(x[1]), float(x[2])))"
   ]
  },
  {
   "cell_type": "code",
   "execution_count": 6,
   "metadata": {
    "collapsed": false
   },
   "outputs": [
    {
     "name": "stdout",
     "output_type": "stream",
     "text": [
      "9125\n"
     ]
    }
   ],
   "source": [
    "movies = sc.textFile(os.path.join(path, 'movies.csv'))\\\n",
    "        .map(lambda line:line.split(\",\"))\\\n",
    "        .filter(lambda line:len(line)>1)\\\n",
    "        .map(lambda a:(a[0],a[1]))\n",
    "header2 = movies.first()\n",
    "movies = movies.filter(lambda line: line != header2)\n",
    "movie_count = movies.count()\n",
    "print movie_count"
   ]
  },
  {
   "cell_type": "code",
   "execution_count": 37,
   "metadata": {
    "collapsed": false
   },
   "outputs": [
    {
     "name": "stdout",
     "output_type": "stream",
     "text": [
      "9066\n",
      "[(2, <pyspark.resultiterable.ResultIterable object at 0x7f3285ce6450>)]\n"
     ]
    }
   ],
   "source": [
    "movie_user = ratings.map(lambda x:(x[1], x[0])).groupByKey()\n",
    "print movie_user.count()"
   ]
  },
  {
   "cell_type": "code",
   "execution_count": 35,
   "metadata": {
    "collapsed": false
   },
   "outputs": [
    {
     "name": "stdout",
     "output_type": "stream",
     "text": [
      "671\n",
      "[(512, <pyspark.resultiterable.ResultIterable object at 0x7f3285ca2910>), (2, <pyspark.resultiterable.ResultIterable object at 0x7f3285ca2a90>)]\n"
     ]
    }
   ],
   "source": [
    "user_movie = ratings.map(lambda x:(x[0], x[1])).groupByKey()\n",
    "print user_movie.count()\n",
    "print user_movie.take(2)"
   ]
  },
  {
   "cell_type": "code",
   "execution_count": 36,
   "metadata": {
    "collapsed": false
   },
   "outputs": [
    {
     "name": "stdout",
     "output_type": "stream",
     "text": [
      "[<pyspark.resultiterable.ResultIterable object at 0x7f328715ff90>]\n"
     ]
    }
   ],
   "source": [
    "def user_rating(movie_index, user_ratings)"
   ]
  },
  {
   "cell_type": "code",
   "execution_count": null,
   "metadata": {
    "collapsed": true
   },
   "outputs": [],
   "source": []
  }
 ],
 "metadata": {
  "kernelspec": {
   "display_name": "Python 2",
   "language": "python",
   "name": "python2"
  },
  "language_info": {
   "codemirror_mode": {
    "name": "ipython",
    "version": 2
   },
   "file_extension": ".py",
   "mimetype": "text/x-python",
   "name": "python",
   "nbconvert_exporter": "python",
   "pygments_lexer": "ipython2",
   "version": "2.7.12"
  }
 },
 "nbformat": 4,
 "nbformat_minor": 2
}
