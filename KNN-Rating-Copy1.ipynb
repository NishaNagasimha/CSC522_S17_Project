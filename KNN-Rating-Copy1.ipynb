{
 "cells": [
  {
   "cell_type": "code",
   "execution_count": 2,
   "metadata": {
    "collapsed": true
   },
   "outputs": [],
   "source": [
    "import os \n",
    "path = \"/home/mr/Grive/01.ALDA/Project-Alda/data\"\n",
    "import math\n",
    "import numpy as np"
   ]
  },
  {
   "cell_type": "code",
   "execution_count": 18,
   "metadata": {},
   "outputs": [],
   "source": [
    "ratings = sc.textFile(os.path.join(path, 'ratings.csv')) \\\n",
    "    .map(lambda line: line.split(\",\")) \\\n",
    "    .filter(lambda line: len(line)>1) \\\n",
    "    .map(lambda a: (a[0], a[1], a[2]))\n",
    "\n",
    "header = ratings.first()\n",
    "ratings = ratings.filter(lambda line: line != header)\n",
    "ratings = ratings.map(lambda x:(int(x[0]), int(x[1]), float(x[2])))\n",
    "ratings = ratings.sample(False, 0.5, seed = 13)\n",
    "ratings2 = ratings.map(lambda x: ((x[0], x[1]), x[2]))\n",
    "user_ratings = ratings.map(lambda x:(x[0], x[2])).groupByKey()\n",
    "user_ratings_mean_std = user_ratings.map(lambda x:(x[0], (np.mean(list(x[1])), np.std(list(x[1])))))\n",
    "normalized_ratings = ratings.map(lambda x:(x[0], (x[1], x[2])))\\\n",
    "                                .join(user_ratings_mean_std)\\\n",
    "                                .map(lambda x:(x[0], x[1][0][0], (x[1][0][1]-x[1][1][0])/x[1][1][1]))\n",
    "        "
   ]
  },
  {
   "cell_type": "code",
   "execution_count": 19,
   "metadata": {},
   "outputs": [],
   "source": [
    "seed = 133\n",
    "trainData, testData = normalized_ratings.randomSplit([0.6, 0.4], seed)"
   ]
  },
  {
   "cell_type": "code",
   "execution_count": 20,
   "metadata": {},
   "outputs": [
    {
     "data": {
      "text/plain": [
       "50091"
      ]
     },
     "execution_count": 20,
     "metadata": {},
     "output_type": "execute_result"
    }
   ],
   "source": [
    "trainData.cache()\n",
    "normalized_ratings.count()\n",
    "\n"
   ]
  },
  {
   "cell_type": "code",
   "execution_count": 21,
   "metadata": {
    "collapsed": true
   },
   "outputs": [],
   "source": [
    "movie_user = normalized_ratings.map(lambda x:(x[1], x[0])).groupByKey()\n",
    "user_movie = normalized_ratings.map(lambda x:(x[0], x[1])).groupByKey()\n",
    "user_movie_rating = normalized_ratings.map(lambda x:((x[0], x[1]), x[2]))"
   ]
  },
  {
   "cell_type": "code",
   "execution_count": 23,
   "metadata": {},
   "outputs": [
    {
     "name": "stdout",
     "output_type": "stream",
     "text": [
      "671\n",
      "7059\n"
     ]
    }
   ],
   "source": [
    "user_count = user_movie.count()"
   ]
  },
  {
   "cell_type": "code",
   "execution_count": null,
   "metadata": {
    "collapsed": true
   },
   "outputs": [],
   "source": [
    "dist_matrix = [[0 for _ in range(user_count)] for _ in range(user_count())]\n",
    "for i in range(user_count):\n",
    "    for j in range(i+1, user_count):\n",
    "        common_watched = user_movies"
   ]
  }
 ],
 "metadata": {
  "kernelspec": {
   "display_name": "Python 2",
   "language": "python",
   "name": "python2"
  },
  "language_info": {
   "codemirror_mode": {
    "name": "ipython",
    "version": 2
   },
   "file_extension": ".py",
   "mimetype": "text/x-python",
   "name": "python",
   "nbconvert_exporter": "python",
   "pygments_lexer": "ipython2",
   "version": "2.7.12"
  }
 },
 "nbformat": 4,
 "nbformat_minor": 2
}
