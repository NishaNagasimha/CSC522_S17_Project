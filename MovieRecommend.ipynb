{
 "cells": [
  {
   "cell_type": "code",
   "execution_count": 15,
   "metadata": {},
   "outputs": [],
   "source": [
    "import os \n",
    "path = \"/home/mr/Grive/01.ALDA/Project-Alda/data/\"\n",
    "from pyspark.mllib.recommendation import ALS\n",
    "import math"
   ]
  },
  {
   "cell_type": "code",
   "execution_count": 16,
   "metadata": {},
   "outputs": [
    {
     "name": "stdout",
     "output_type": "stream",
     "text": [
      "Total number of ratings : 100004\n"
     ]
    }
   ],
   "source": [
    "ratings = sc.textFile(os.path.join(path, 'ratings.csv')) \\\n",
    "    .map(lambda line: line.split(\",\")) \\\n",
    "    .filter(lambda line: len(line)>1) \\\n",
    "    .map(lambda a: (a[0], a[1], a[2]))\n",
    "header = ratings.first()\n",
    "ratings = ratings.filter(lambda line: line != header)\n",
    "ratings = ratings.map(lambda x:(int(x[0]), x[1], x[2]))\n",
    "print (\"Total number of ratings : %d\"%ratings.count())"
   ]
  },
  {
   "cell_type": "code",
   "execution_count": 17,
   "metadata": {},
   "outputs": [
    {
     "name": "stdout",
     "output_type": "stream",
     "text": [
      "Total number of Movies : 9125\n"
     ]
    }
   ],
   "source": [
    "movies = sc.textFile(os.path.join(path, 'movies.csv'))\\\n",
    "        .map(lambda line:line.split(\",\"))\\\n",
    "        .filter(lambda line:len(line)>1)\\\n",
    "        .map(lambda a:(a[0],a[1]))\n",
    "header2 = movies.first()\n",
    "movies = movies.filter(lambda line: line != header2)\n",
    "print (\"Total number of Movies : %d\"%movies.count())"
   ]
  },
  {
   "cell_type": "markdown",
   "metadata": {},
   "source": [
    "Divide the data into Training data, Validation Data and Test data\n",
    "Training data is to form the model with different rank everytime\n",
    "For each time, sum of squared errors is found out using Validation data\n",
    "Then the rank that gives least SSE is selected"
   ]
  },
  {
   "cell_type": "code",
   "execution_count": 18,
   "metadata": {
    "scrolled": true
   },
   "outputs": [
    {
     "data": {
      "text/plain": [
       "PythonRDD[20] at RDD at PythonRDD.scala:43"
      ]
     },
     "execution_count": 18,
     "metadata": {},
     "output_type": "execute_result"
    }
   ],
   "source": [
    "seed = 133\n",
    "trainData, validationData, testData = ratings.randomSplit([0.6, 0.2, 0.2], seed)\n",
    "trainData.cache()\n",
    "validationData.cache()\n",
    "testData.cache()"
   ]
  },
  {
   "cell_type": "markdown",
   "metadata": {},
   "source": [
    "Ranks chosen = [2,4,8,10]\n",
    "ALS -> Alternating least squares that finds out latent factors "
   ]
  },
  {
   "cell_type": "code",
   "execution_count": 19,
   "metadata": {},
   "outputs": [
    {
     "name": "stdout",
     "output_type": "stream",
     "text": [
      "{8: 25635.63896171894, 2: 24326.618122816402, 4: 23567.3672340687, 10: 27560.814525813857}\n"
     ]
    }
   ],
   "source": [
    "rank_sse = {}\n",
    "for rank in [2,4,8,10]:\n",
    "    model = ALS.train(trainData, rank, seed=seed)\n",
    "    predictions = model.predictAll(validationData.map(lambda x: (int(x[0]), int(x[1]))))\\\n",
    "                    .map(lambda r: ((r[0], r[1]), r[2]))\n",
    "    actual_pred = validationData.map(lambda r: ((int(r[0]), int(r[1])), float(r[2]))).join(predictions)\n",
    "    rank_sse[rank] = actual_pred.map(lambda r: (r[1][0] - r[1][1])**2).sum()\n",
    "print (rank_sse)"
   ]
  },
  {
   "cell_type": "markdown",
   "metadata": {},
   "source": [
    "lowest SSE for rank = 4\n",
    "Construct model with rank = 4\n",
    "Now SSE is calculated for the test data"
   ]
  },
  {
   "cell_type": "code",
   "execution_count": 20,
   "metadata": {},
   "outputs": [
    {
     "name": "stdout",
     "output_type": "stream",
     "text": [
      "For testing data the SSE is 23075.5573174\n"
     ]
    }
   ],
   "source": [
    "model = ALS.train(trainData, rank=4, seed=seed)\n",
    "predictions = model.predictAll(testData.map(lambda x: (int(x[0]), int(x[1])))).map(lambda r: ((r[0], r[1]), r[2]))\n",
    "actual_pred = testData.map(lambda r: ((int(r[0]), int(r[1])), float(r[2]))).join(predictions)\n",
    "sse = actual_pred.map(lambda r: (r[1][0] - r[1][1])**2).sum()  \n",
    "print 'For testing data the SSE is %s' % (sse)"
   ]
  },
  {
   "cell_type": "markdown",
   "metadata": {},
   "source": [
    "Now a new user with some ratings is added to the ratings data\n",
    "We predict his ratings to unwatched movies and sort based on predicted rating\n",
    "and take the top 20 movies "
   ]
  },
  {
   "cell_type": "code",
   "execution_count": 21,
   "metadata": {},
   "outputs": [
    {
     "name": "stdout",
     "output_type": "stream",
     "text": [
      "[(670, 15.171682266858094), (4898, 13.150439981278964), (5490, 11.290043591976353), (63853, 10.138435535483822), (5477, 10.077309865367994)]\n"
     ]
    }
   ],
   "source": [
    "add_user = sc.parallelize([(0,260,4), (0,1,3), (0,16,3), (0,25,4), (0,32,4), (0,335,1), (0,379,1), (0,296,3),\n",
    "     (0,858,5), (0,50,4)])\n",
    "new_data = ratings.union(add_user)\n",
    "model = ALS.train(new_data, rank=4, seed=133)\n",
    "ids = add_user.map(lambda x:x[1]).collect()\n",
    "to_predict = movies.filter(lambda x:int(x[0]) not in ids).map(lambda x:(0, int(x[0])))\n",
    "predictions = model.predictAll(to_predict)\n",
    "temp = movies.map(lambda x:(int(x[0]), x[1]))\n",
    "predictions = predictions.map(lambda x: (x.rating, x.product)).sortByKey(ascending = False).map(lambda x:(x[1], x[0]))\n",
    "recommend = predictions.take(5)\n",
    "print (recommend)"
   ]
  },
  {
   "cell_type": "code",
   "execution_count": 22,
   "metadata": {},
   "outputs": [
    {
     "data": {
      "text/plain": [
       "[u'The Big Bus (1976)',\n",
       " u'Australia (2008)',\n",
       " u'Novocaine (2001)',\n",
       " u'\"World of Apu',\n",
       " u'Sex and Lucia (Luc\\xeda y el sexo) (2001)']"
      ]
     },
     "execution_count": 22,
     "metadata": {},
     "output_type": "execute_result"
    }
   ],
   "source": [
    "output = sc.parallelize(recommend)\n",
    "output = output.join(temp).map(lambda x:x[1][1])\n",
    "output.collect()"
   ]
  },
  {
   "cell_type": "code",
   "execution_count": null,
   "metadata": {
    "collapsed": true
   },
   "outputs": [],
   "source": []
  }
 ],
 "metadata": {
  "kernelspec": {
   "display_name": "Python 2",
   "language": "python",
   "name": "python2"
  },
  "language_info": {
   "codemirror_mode": {
    "name": "ipython",
    "version": 2
   },
   "file_extension": ".py",
   "mimetype": "text/x-python",
   "name": "python",
   "nbconvert_exporter": "python",
   "pygments_lexer": "ipython2",
   "version": "2.7.12"
  }
 },
 "nbformat": 4,
 "nbformat_minor": 2
}
