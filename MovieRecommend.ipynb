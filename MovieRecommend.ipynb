{
 "cells": [
  {
   "cell_type": "code",
   "execution_count": 1,
   "metadata": {
    "collapsed": true
   },
   "outputs": [],
   "source": [
    "import os \n",
    "path = \"/home/mr/Grive/01.ALDA/Project-Alda/data/\"\n",
    "from pyspark.mllib.recommendation import ALS\n",
    "import math"
   ]
  },
  {
   "cell_type": "code",
   "execution_count": 2,
   "metadata": {},
   "outputs": [
    {
     "name": "stdout",
     "output_type": "stream",
     "text": [
      "Total number of ratings : 100004\n"
     ]
    }
   ],
   "source": [
    "ratings = sc.textFile(os.path.join(path, 'ratings.csv')) \\\n",
    "    .map(lambda line: line.split(\",\")) \\\n",
    "    .filter(lambda line: len(line)>1) \\\n",
    "    .map(lambda a: (a[0], a[1], a[2]))\n",
    "header = ratings.first()\n",
    "ratings = ratings.filter(lambda line: line != header)\n",
    "ratings = ratings.map(lambda x:(int(x[0]), x[1], x[2]))\n",
    "print (\"Total number of ratings : %d\"%ratings.count())"
   ]
  },
  {
   "cell_type": "code",
   "execution_count": 3,
   "metadata": {},
   "outputs": [
    {
     "name": "stdout",
     "output_type": "stream",
     "text": [
      "Total number of Movies : 9125\n"
     ]
    }
   ],
   "source": [
    "movies = sc.textFile(os.path.join(path, 'movies.csv'))\\\n",
    "        .map(lambda line:line.split(\",\"))\\\n",
    "        .filter(lambda line:len(line)>1)\\\n",
    "        .map(lambda a:(a[0],a[1]))\n",
    "header2 = movies.first()\n",
    "movies = movies.filter(lambda line: line != header2)\n",
    "print (\"Total number of Movies : %d\"%movies.count())"
   ]
  },
  {
   "cell_type": "markdown",
   "metadata": {},
   "source": [
    "Divide the data into Training data, Validation Data and Test data\n",
    "Training data is to form the model with different rank everytime\n",
    "For each time, sum of squared errors is found out using Validation data\n",
    "Then the rank that gives least SSE is selected"
   ]
  },
  {
   "cell_type": "code",
   "execution_count": 4,
   "metadata": {
    "scrolled": true
   },
   "outputs": [
    {
     "data": {
      "text/plain": [
       "PythonRDD[10] at RDD at PythonRDD.scala:43"
      ]
     },
     "execution_count": 4,
     "metadata": {},
     "output_type": "execute_result"
    }
   ],
   "source": [
    "seed = 133\n",
    "trainData, validationData, testData = ratings.randomSplit([0.6, 0.2, 0.2], seed)\n",
    "trainData.cache()\n",
    "validationData.cache()\n",
    "testData.cache()"
   ]
  },
  {
   "cell_type": "markdown",
   "metadata": {},
   "source": [
    "Ranks chosen = [2,4,8,10]\n",
    "ALS -> Alternating least squares that finds out latent factors "
   ]
  },
  {
   "cell_type": "code",
   "execution_count": 6,
   "metadata": {},
   "outputs": [
    {
     "name": "stdout",
     "output_type": "stream",
     "text": [
      "{2: 24326.618122816402, 3: 21777.453591149446, 4: 23567.3672340687, 5: 23020.866170513644, 6: 24893.35198115826, 7: 25921.861369149112, 8: 25635.63896171894, 9: 27363.741942835684, 10: 27560.814525813857, 11: 28785.363630246844, 12: 29060.02313750468, 13: 28030.165107063436, 14: 31196.12073286578, 15: 31047.152085549882, 16: 31642.323415871222, 17: 33910.78369945775, 18: 33015.62092946656, 19: 34003.96752356912, 20: 34404.08830447215, 21: 35351.32718963707, 22: 34736.52358675417, 23: 36733.60015864587, 24: 37947.36267098985, 25: 37413.59873166142, 26: 38526.46609801681, 27: 37853.36337572466, 28: 39858.51754487103, 29: 39610.81102243094, 30: 40219.98404160369}\n"
     ]
    }
   ],
   "source": [
    "rank_sse = {}\n",
    "for rank in range(2,31):\n",
    "    model = ALS.train(trainData, rank, seed=seed)\n",
    "    predictions = model.predictAll(validationData.map(lambda x: (int(x[0]), int(x[1]))))\\\n",
    "                    .map(lambda r: ((r[0], r[1]), r[2]))\n",
    "    actual_pred = validationData.map(lambda r: ((int(r[0]), int(r[1])), float(r[2]))).join(predictions)\n",
    "    rank_sse[rank] = actual_pred.map(lambda r: (r[1][0] - r[1][1])**2).sum()\n",
    "print (rank_sse)"
   ]
  },
  {
   "cell_type": "markdown",
   "metadata": {},
   "source": [
    "lowest SSE for rank = 3\n",
    "Construct model with rank = 3\n",
    "Now SSE is calculated for the test data"
   ]
  },
  {
   "cell_type": "code",
   "execution_count": 7,
   "metadata": {},
   "outputs": [
    {
     "name": "stdout",
     "output_type": "stream",
     "text": [
      "For testing data the SSE is 21057.0116283\n"
     ]
    }
   ],
   "source": [
    "model = ALS.train(trainData, rank=3, seed=seed)\n",
    "predictions = model.predictAll(testData.map(lambda x: (int(x[0]), int(x[1])))).map(lambda r: ((r[0], r[1]), r[2]))\n",
    "actual_pred = testData.map(lambda r: ((int(r[0]), int(r[1])), float(r[2]))).join(predictions)\n",
    "sse = actual_pred.map(lambda r: (r[1][0] - r[1][1])**2).sum()  \n",
    "print 'For testing data the SSE is %s' % (sse)"
   ]
  },
  {
   "cell_type": "markdown",
   "metadata": {},
   "source": [
    "Now a new user with some ratings is added to the ratings data\n",
    "We predict his ratings to unwatched movies and sort based on predicted rating\n",
    "and take the top 20 movies "
   ]
  },
  {
   "cell_type": "code",
   "execution_count": 8,
   "metadata": {},
   "outputs": [
    {
     "name": "stdout",
     "output_type": "stream",
     "text": [
      "[(4630, 19.82755780913979), (6127, 18.234697739663915), (31694, 16.46869434991649), (279, 16.255157252569376), (6797, 16.132769072038457)]\n"
     ]
    }
   ],
   "source": [
    "add_user = sc.parallelize([(0,260,4), (0,1,3), (0,16,3), (0,25,4), (0,32,4), (0,335,1), (0,379,1), (0,296,3),\n",
    "     (0,858,5), (0,50,4)])\n",
    "new_data = ratings.union(add_user)\n",
    "model = ALS.train(new_data, rank=3, seed=133)\n",
    "ids = add_user.map(lambda x:x[1]).collect()\n",
    "to_predict = movies.filter(lambda x:int(x[0]) not in ids).map(lambda x:(0, int(x[0])))\n",
    "predictions = model.predictAll(to_predict)\n",
    "temp = movies.map(lambda x:(int(x[0]), x[1]))\n",
    "predictions = predictions.map(lambda x: (x.rating, x.product)).sortByKey(ascending = False).map(lambda x:(x[1], x[0]))\n",
    "recommend = predictions.take(5)\n",
    "print (recommend)"
   ]
  },
  {
   "cell_type": "code",
   "execution_count": 9,
   "metadata": {},
   "outputs": [
    {
     "data": {
      "text/plain": [
       "[u'Shoot the Moon (1982)',\n",
       " u'Bride & Prejudice (2004)',\n",
       " u'My Family (1995)',\n",
       " u'No Holds Barred (1989)',\n",
       " u'Bugsy (1991)']"
      ]
     },
     "execution_count": 9,
     "metadata": {},
     "output_type": "execute_result"
    }
   ],
   "source": [
    "output = sc.parallelize(recommend)\n",
    "output = output.join(temp).map(lambda x:x[1][1])\n",
    "output.collect()"
   ]
  },
  {
   "cell_type": "code",
   "execution_count": null,
   "metadata": {
    "collapsed": true
   },
   "outputs": [],
   "source": []
  }
 ],
 "metadata": {
  "kernelspec": {
   "display_name": "Python 2",
   "language": "python",
   "name": "python2"
  },
  "language_info": {
   "codemirror_mode": {
    "name": "ipython",
    "version": 2
   },
   "file_extension": ".py",
   "mimetype": "text/x-python",
   "name": "python",
   "nbconvert_exporter": "python",
   "pygments_lexer": "ipython2",
   "version": "2.7.12"
  }
 },
 "nbformat": 4,
 "nbformat_minor": 2
}
